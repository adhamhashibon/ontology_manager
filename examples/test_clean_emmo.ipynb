{
 "cells": [
  {
   "cell_type": "code",
   "execution_count": 1,
   "metadata": {},
   "outputs": [],
   "source": [
    "from ontology_manager.ontology_utils import OntologyManager\n",
    "from rdflib import Graph, URIRef, Namespace, Literal, BNode\n",
    "from rdflib.namespace import SKOS"
   ]
  },
  {
   "cell_type": "markdown",
   "metadata": {},
   "source": [
    "\n",
    "<br>\n",
    "create and adapt for unit teting <br>\n",
    "basically we need: <br>\n",
    "a simple ontology for testing in the local folder, <br>\n",
    "it should have various forms of the ontology URI with :, / and # <br>\n",
    "it should have specific relations covering all possible relations<br>\n",
    "we check i each ontology is loaded properly <br>\n",
    "we also later export the ontology and compare the files <br>\n",
    "we then alter the ontology with individual and with a new class and check that it existisna comparing to the expected result <br>\n"
   ]
  },
  {
   "cell_type": "code",
   "execution_count": 2,
   "metadata": {},
   "outputs": [
    {
     "name": "stdout",
     "output_type": "stream",
     "text": [
      "name= http://emmo.info/emmo/1.0.0-beta5/emmo uri= ./emmo.ttl\n",
      "name= http://emmo.info/emmo/1.0.0-beta5/mereocausality uri= ./mereocausality/mereocausality.ttl\n",
      "name= http://emmo.info/emmo/1.0.0-beta5/perspectives uri= ./perspectives/perspectives.ttl\n",
      "name= http://emmo.info/emmo/1.0.0-beta5/perspectives/perspective uri= ./perspectives/perspective.ttl\n",
      "name= http://emmo.info/emmo/1.0.0-beta5/perspectives/semiotics uri= ./perspectives/semiotics.ttl\n",
      "name= http://emmo.info/emmo/1.0.0-beta5/perspectives/perceptual uri= ./perspectives/perceptual.ttl\n",
      "name= http://emmo.info/emmo/1.0.0-beta5/perspectives/reductionistic uri= ./perspectives/reductionistic.ttl\n",
      "name= http://emmo.info/emmo/1.0.0-beta5/perspectives/holistic uri= ./perspectives/holistic.ttl\n",
      "name= http://emmo.info/emmo/1.0.0-beta5/perspectives/persistence uri= ./perspectives/persistence.ttl\n",
      "name= http://emmo.info/emmo/1.0.0-beta5/perspectives/physicalistic uri= ./perspectives/physicalistic.ttl\n",
      "name= http://emmo.info/emmo/1.0.0-beta5/perspectives/standardmodel uri= ./perspectives/standardmodel.ttl\n",
      "name= http://emmo.info/emmo/1.0.0-beta5/perspectives/data uri= ./perspectives/data.ttl\n",
      "name= http://emmo.info/emmo/1.0.0-beta5/multiperspective uri= ./multiperspective/multiperspective.ttl\n",
      "name= http://emmo.info/emmo/1.0.0-beta5/multiperspective/persholistic uri= ./multiperspective/persholistic.ttl\n",
      "name= http://emmo.info/emmo/1.0.0-beta5/multiperspective/properties uri= ./multiperspective/properties.ttl\n",
      "name= http://emmo.info/emmo/1.0.0-beta5/multiperspective/symbolic uri= ./multiperspective/symbolic.ttl\n",
      "name= http://emmo.info/emmo/1.0.0-beta5/multiperspective/information uri= ./multiperspective/information.ttl\n",
      "name= http://emmo.info/emmo/1.0.0-beta5/multiperspective/workflow uri= ./multiperspective/workflow.ttl\n",
      "name= http://emmo.info/emmo/1.0.0-beta5/disciplines uri= ./disciplines/disciplines.ttl\n",
      "name= http://emmo.info/emmo/1.0.0-beta5/disciplines/chemistry uri= ./disciplines/chemistry.ttl\n",
      "name= http://emmo.info/emmo/1.0.0-beta5/disciplines/computerscience uri= ./disciplines/computerscience.ttl\n",
      "name= http://emmo.info/emmo/1.0.0-beta5/disciplines/manufacturing uri= ./disciplines/manufacturing.ttl\n",
      "name= http://emmo.info/emmo/1.0.0-beta5/disciplines/materials uri= ./disciplines/materials.ttl\n",
      "name= http://emmo.info/emmo/1.0.0-beta5/disciplines/math uri= ./disciplines/math.ttl\n",
      "name= http://emmo.info/emmo/1.0.0-beta5/disciplines/models uri= ./disciplines/models.ttl\n",
      "name= http://emmo.info/emmo/1.0.0-beta5/disciplines/periodictable uri= ./disciplines/periodictable.ttl\n",
      "name= http://emmo.info/emmo/1.0.0-beta5/disciplines/metrology uri= ./disciplines/metrology.ttl\n",
      "name= http://emmo.info/emmo/1.0.0-beta5/disciplines/isq uri= ./disciplines/isq.ttl\n",
      "name= http://emmo.info/emmo/1.0.0-beta5/disciplines/sisystem uri= ./disciplines/sisystem.ttl\n",
      "name= http://emmo.info/emmo/1.0.0-beta5/disciplines/units uri= ./disciplines/units/units.ttl\n",
      "name= http://emmo.info/emmo/1.0.0-beta5/disciplines/units/sidimensionalunits uri= ./disciplines/units/sidimensionalunits.ttl\n",
      "name= http://emmo.info/emmo/1.0.0-beta5/disciplines/units/siunits uri= ./disciplines/units/siunits.ttl\n",
      "name= http://emmo.info/emmo/1.0.0-beta5/disciplines/units/coherentsiunits uri= ./disciplines/units/coherentsiunits.ttl\n",
      "name= http://emmo.info/emmo/1.0.0-beta5/disciplines/units/noncoherentsiunits uri= ./disciplines/units/noncoherentsiunits.ttl\n",
      "name= http://emmo.info/emmo/1.0.0-beta5/disciplines/units/prefixedsiunits uri= ./disciplines/units/prefixedsiunits.ttl\n",
      "name= http://emmo.info/emmo/1.0.0-beta5/disciplines/units/siacceptedunits uri= ./disciplines/units/siacceptedunits.ttl\n",
      "name= http://emmo.info/emmo/1.0.0-beta5/disciplines/units/unclassifiedunits uri= ./disciplines/units/unclassifiedunits.ttl\n",
      "name= http://emmo.info/emmo/1.0.0-beta5/disciplines/unitsextension uri= ./disciplines/units/unitsextension.ttl\n",
      "name= http://emmo.info/emmo/1.0.0-beta5/disciplines/prefixedunits uri= ./disciplines/units/prefixedunits.ttl\n",
      "name= http://emmo.info/emmo/1.0.0-beta5/disciplines/deprecated uri= ./disciplines/units/deprecated.ttl\n",
      "Loaded ontology: http://emmo.info/emmo/1.0.0-beta5/emmo\n",
      "Loaded ontology: http://emmo.info/emmo/1.0.0-beta5/mereocausality\n",
      "Loaded ontology: http://emmo.info/emmo/1.0.0-beta5/perspectives\n",
      "Loaded ontology: http://emmo.info/emmo/1.0.0-beta5/perspectives/perspective\n",
      "Loaded ontology: http://emmo.info/emmo/1.0.0-beta5/perspectives/semiotics\n",
      "Loaded ontology: http://emmo.info/emmo/1.0.0-beta5/perspectives/perceptual\n",
      "Loaded ontology: http://emmo.info/emmo/1.0.0-beta5/perspectives/reductionistic\n",
      "Loaded ontology: http://emmo.info/emmo/1.0.0-beta5/perspectives/holistic\n",
      "Loaded ontology: http://emmo.info/emmo/1.0.0-beta5/perspectives/persistence\n",
      "Loaded ontology: http://emmo.info/emmo/1.0.0-beta5/perspectives/physicalistic\n",
      "Loaded ontology: http://emmo.info/emmo/1.0.0-beta5/perspectives/standardmodel\n",
      "Loaded ontology: http://emmo.info/emmo/1.0.0-beta5/perspectives/data\n",
      "Loaded ontology: http://emmo.info/emmo/1.0.0-beta5/multiperspective\n",
      "Loaded ontology: http://emmo.info/emmo/1.0.0-beta5/multiperspective/persholistic\n",
      "Loaded ontology: http://emmo.info/emmo/1.0.0-beta5/multiperspective/properties\n",
      "Loaded ontology: http://emmo.info/emmo/1.0.0-beta5/multiperspective/symbolic\n",
      "Loaded ontology: http://emmo.info/emmo/1.0.0-beta5/multiperspective/information\n",
      "Loaded ontology: http://emmo.info/emmo/1.0.0-beta5/multiperspective/workflow\n",
      "Loaded ontology: http://emmo.info/emmo/1.0.0-beta5/disciplines\n",
      "Loaded ontology: http://emmo.info/emmo/1.0.0-beta5/disciplines/chemistry\n",
      "Loaded ontology: http://emmo.info/emmo/1.0.0-beta5/disciplines/computerscience\n",
      "Loaded ontology: http://emmo.info/emmo/1.0.0-beta5/disciplines/manufacturing\n",
      "Loaded ontology: http://emmo.info/emmo/1.0.0-beta5/disciplines/materials\n",
      "Loaded ontology: http://emmo.info/emmo/1.0.0-beta5/disciplines/math\n",
      "Loaded ontology: http://emmo.info/emmo/1.0.0-beta5/disciplines/models\n",
      "Loaded ontology: http://emmo.info/emmo/1.0.0-beta5/disciplines/periodictable\n",
      "Loaded ontology: http://emmo.info/emmo/1.0.0-beta5/disciplines/metrology\n",
      "Loaded ontology: http://emmo.info/emmo/1.0.0-beta5/disciplines/isq\n",
      "Loaded ontology: http://emmo.info/emmo/1.0.0-beta5/disciplines/sisystem\n",
      "Loaded ontology: http://emmo.info/emmo/1.0.0-beta5/disciplines/units\n",
      "Loaded ontology: http://emmo.info/emmo/1.0.0-beta5/disciplines/units/sidimensionalunits\n",
      "Loaded ontology: http://emmo.info/emmo/1.0.0-beta5/disciplines/units/siunits\n",
      "Loaded ontology: http://emmo.info/emmo/1.0.0-beta5/disciplines/units/coherentsiunits\n",
      "Loaded ontology: http://emmo.info/emmo/1.0.0-beta5/disciplines/units/noncoherentsiunits\n",
      "Loaded ontology: http://emmo.info/emmo/1.0.0-beta5/disciplines/units/prefixedsiunits\n",
      "Loaded ontology: http://emmo.info/emmo/1.0.0-beta5/disciplines/units/siacceptedunits\n",
      "Loaded ontology: http://emmo.info/emmo/1.0.0-beta5/disciplines/units/unclassifiedunits\n",
      "Loaded ontology: http://emmo.info/emmo/1.0.0-beta5/disciplines/unitsextension\n",
      "Loaded ontology: http://emmo.info/emmo/1.0.0-beta5/disciplines/prefixedunits\n",
      "Loaded ontology: http://emmo.info/emmo/1.0.0-beta5/disciplines/deprecated\n"
     ]
    }
   ],
   "source": [
    "base_path = '/Users/adham/dev/ontology/ontology/github-emmo-repo-EMMO/'\n",
    "catalog_file = 'catalog-v001.xml'\n",
    "manager = OntologyManager(base_path, catalog_file)\n",
    "manager.parse_catalog()\n",
    "manager.load_ontology()\n",
    "  "
   ]
  },
  {
   "cell_type": "code",
   "execution_count": 3,
   "metadata": {},
   "outputs": [
    {
     "name": "stdout",
     "output_type": "stream",
     "text": [
      "fixing the emmo IRI horror\n",
      "\n"
     ]
    }
   ],
   "source": [
    "print(\"fixing the emmo IRI horror\\n\")"
   ]
  },
  {
   "cell_type": "code",
   "execution_count": 4,
   "metadata": {},
   "outputs": [],
   "source": [
    "k=manager.find('perceptual')"
   ]
  },
  {
   "cell_type": "code",
   "execution_count": 5,
   "metadata": {},
   "outputs": [
    {
     "name": "stdout",
     "output_type": "stream",
     "text": [
      "['http://emmo.info/emmo/1.0.0-beta5/perspectives/perceptual'], 1 ontologies match, they are:\n"
     ]
    }
   ],
   "source": [
    "print(f\"{k}, {len(k)} ontologies match, they are:\")"
   ]
  },
  {
   "cell_type": "code",
   "execution_count": 6,
   "metadata": {},
   "outputs": [
    {
     "name": "stdout",
     "output_type": "stream",
     "text": [
      "http://emmo.info/emmo/1.0.0-beta5/perspectives/perceptual\n"
     ]
    },
    {
     "data": {
      "text/plain": [
       "[None]"
      ]
     },
     "execution_count": 6,
     "metadata": {},
     "output_type": "execute_result"
    }
   ],
   "source": [
    "[print(i) for i in k]"
   ]
  },
  {
   "cell_type": "code",
   "execution_count": 7,
   "metadata": {},
   "outputs": [],
   "source": [
    "g=manager.ontology_graphs[str(k[0])]\n",
    "\n",
    "#onto_properties_graph=manager.ontology_graphs[str(k[0])]\n",
    "#print (type(onto_properties_graph))\n",
    "#print(onto_properties_graph.serialize())"
   ]
  },
  {
   "cell_type": "code",
   "execution_count": 9,
   "metadata": {},
   "outputs": [
    {
     "name": "stdout",
     "output_type": "stream",
     "text": [
      "adding map between http://emmo.info/emmo#EMMO_649bf97b_4397_4005_90d9_219755d92e34 and Perceptual\n",
      "adding map between http://emmo.info/emmo#EMMO_46f0f8df_4dc6_418f_8036_10427a3a288e and ThreeManifold\n",
      "adding map between http://emmo.info/emmo#EMMO_b5957cef_a287_442d_a3ce_fd39f20ba1cd and Geometrical\n",
      "adding map between http://emmo.info/emmo#EMMO_3e309118_e8b7_4021_80f4_642d2df65d94 and Line\n",
      "adding map between http://emmo.info/emmo#EMMO_0c576e13_4ee7_4f3d_bfe9_1614243df018 and OneManifold\n",
      "adding map between http://emmo.info/emmo#EMMO_c5ae6d8e_6b39_431f_8de4_ae4e357abc04 and Visual\n",
      "adding map between http://emmo.info/emmo#EMMO_b2a234a8_579a_422c_9305_b8f7e72c76cd and Circle\n",
      "adding map between http://emmo.info/emmo#EMMO_b5957cef_a287_442d_a3ce_fd39f20ba1cd and Geometrical\n",
      "adding map between http://emmo.info/emmo#EMMO_c74da218_9147_4f03_92d1_8894abca55f3 and Graphical\n",
      "adding map between http://emmo.info/emmo#EMMO_25f5ca8e_8f7f_44d8_a392_bd3fe8894458 and Plane\n",
      "adding map between http://emmo.info/emmo#EMMO_4b3afb22_27cf_4ce3_88bc_492bfccb546b and Auditory\n",
      "adding map between http://emmo.info/emmo#EMMO_0ab0485c_9e5b_4257_a679_90a2dfba5c7c and ZeroManifold\n",
      "adding map between http://emmo.info/emmo#EMMO_1da53c06_9577_4008_8652_272fa3b62be7 and Pictorial\n",
      "adding map between http://emmo.info/emmo#EMMO_8f207971_aaab_48dc_a10d_55a6b4331410 and Somatosensory\n",
      "adding map between http://emmo.info/emmo#EMMO_c74da218_9147_4f03_92d1_8894abca55f3 and Graphical\n",
      "adding map between http://emmo.info/emmo#EMMO_ccdc1a41_6e96_416b_92ec_efe67917434a and Document\n",
      "adding map between http://emmo.info/emmo#EMMO_86060335_31c2_4820_b433_27c64aea0366 and Torus\n",
      "adding map between http://emmo.info/emmo#EMMO_eb7de1a1_c30e_4f0d_94c6_fe70414d7e61 and Representation\n",
      "adding map between http://emmo.info/emmo#EMMO_e1021593_06da_4237_8a02_29d8f6fef76d and Olfactory\n",
      "adding map between http://emmo.info/emmo#EMMO_d7bf784a_db94_4dd9_861c_54f262846fbf and Sphere\n",
      "adding map between http://emmo.info/emmo#EMMO_9268958f_7f54_48ab_a693_febe2645892b and TwoManifold\n",
      "adding map between http://emmo.info/emmo#EMMO_9268958f_7f54_48ab_a693_febe2645892b and TwoManifold\n",
      "adding map between http://emmo.info/emmo#EMMO_5f278af9_8593_4e27_a717_ccc9e07a0ddf and EuclideanSpace\n",
      "adding map between http://emmo.info/emmo#EMMO_39362460_2a97_4367_8f93_0418c2ac9a08 and Point\n",
      "adding map between http://emmo.info/emmo#EMMO_0ef4ff4a_5458_4f2a_b51f_4689d472a3f2 and Curve\n",
      "adding map between http://emmo.info/emmo#EMMO_dd14d055_2db0_4b81_bc97_ef6c2f72b8a0 and Gustatory\n",
      "adding map between http://emmo.info/emmo#EMMO_dd14d055_2db0_4b81_bc97_ef6c2f72b8a0 and Gustatory\n",
      "adding map between http://emmo.info/emmo#EMMO_e1021593_06da_4237_8a02_29d8f6fef76d and Olfactory\n"
     ]
    }
   ],
   "source": [
    "sop_map=manager.emmo_to_label_graph(\"http://emmo.info/emmo#\", SKOS.prefLabel, g ) "
   ]
  },
  {
   "cell_type": "code",
   "execution_count": 10,
   "metadata": {},
   "outputs": [
    {
     "ename": "NameError",
     "evalue": "name 's_map' is not defined",
     "output_type": "error",
     "traceback": [
      "\u001b[0;31m---------------------------------------------------------------------------\u001b[0m",
      "\u001b[0;31mNameError\u001b[0m                                 Traceback (most recent call last)",
      "Cell \u001b[0;32mIn[10], line 1\u001b[0m\n\u001b[0;32m----> 1\u001b[0m \u001b[38;5;28mprint\u001b[39m(\u001b[38;5;28mlen\u001b[39m(\u001b[43ms_map\u001b[49m[\u001b[38;5;124m\"\u001b[39m\u001b[38;5;124ms_map\u001b[39m\u001b[38;5;124m\"\u001b[39m]))\n",
      "\u001b[0;31mNameError\u001b[0m: name 's_map' is not defined"
     ]
    }
   ],
   "source": [
    "print(len(s_map[\"s_map\"]))"
   ]
  },
  {
   "cell_type": "code",
   "execution_count": 11,
   "metadata": {},
   "outputs": [
    {
     "data": {
      "text/plain": [
       "{'s_map': {rdflib.term.URIRef('http://emmo.info/emmo#EMMO_649bf97b_4397_4005_90d9_219755d92e34'): rdflib.term.URIRef('http://emmo.info/emmo#Perceptual'),\n",
       "  rdflib.term.URIRef('http://emmo.info/emmo#EMMO_46f0f8df_4dc6_418f_8036_10427a3a288e'): rdflib.term.URIRef('http://emmo.info/emmo#ThreeManifold'),\n",
       "  rdflib.term.URIRef('http://emmo.info/emmo#EMMO_3e309118_e8b7_4021_80f4_642d2df65d94'): rdflib.term.URIRef('http://emmo.info/emmo#Line'),\n",
       "  rdflib.term.URIRef('http://emmo.info/emmo#EMMO_0c576e13_4ee7_4f3d_bfe9_1614243df018'): rdflib.term.URIRef('http://emmo.info/emmo#OneManifold'),\n",
       "  rdflib.term.URIRef('http://emmo.info/emmo#EMMO_c5ae6d8e_6b39_431f_8de4_ae4e357abc04'): rdflib.term.URIRef('http://emmo.info/emmo#Visual'),\n",
       "  rdflib.term.URIRef('http://emmo.info/emmo#EMMO_b2a234a8_579a_422c_9305_b8f7e72c76cd'): rdflib.term.URIRef('http://emmo.info/emmo#Circle'),\n",
       "  rdflib.term.URIRef('http://emmo.info/emmo#EMMO_b5957cef_a287_442d_a3ce_fd39f20ba1cd'): rdflib.term.URIRef('http://emmo.info/emmo#Geometrical'),\n",
       "  rdflib.term.URIRef('http://emmo.info/emmo#EMMO_25f5ca8e_8f7f_44d8_a392_bd3fe8894458'): rdflib.term.URIRef('http://emmo.info/emmo#Plane'),\n",
       "  rdflib.term.URIRef('http://emmo.info/emmo#EMMO_4b3afb22_27cf_4ce3_88bc_492bfccb546b'): rdflib.term.URIRef('http://emmo.info/emmo#Auditory'),\n",
       "  rdflib.term.URIRef('http://emmo.info/emmo#EMMO_0ab0485c_9e5b_4257_a679_90a2dfba5c7c'): rdflib.term.URIRef('http://emmo.info/emmo#ZeroManifold'),\n",
       "  rdflib.term.URIRef('http://emmo.info/emmo#EMMO_1da53c06_9577_4008_8652_272fa3b62be7'): rdflib.term.URIRef('http://emmo.info/emmo#Pictorial'),\n",
       "  rdflib.term.URIRef('http://emmo.info/emmo#EMMO_8f207971_aaab_48dc_a10d_55a6b4331410'): rdflib.term.URIRef('http://emmo.info/emmo#Somatosensory'),\n",
       "  rdflib.term.URIRef('http://emmo.info/emmo#EMMO_c74da218_9147_4f03_92d1_8894abca55f3'): rdflib.term.URIRef('http://emmo.info/emmo#Graphical'),\n",
       "  rdflib.term.URIRef('http://emmo.info/emmo#EMMO_ccdc1a41_6e96_416b_92ec_efe67917434a'): rdflib.term.URIRef('http://emmo.info/emmo#Document'),\n",
       "  rdflib.term.URIRef('http://emmo.info/emmo#EMMO_86060335_31c2_4820_b433_27c64aea0366'): rdflib.term.URIRef('http://emmo.info/emmo#Torus'),\n",
       "  rdflib.term.URIRef('http://emmo.info/emmo#EMMO_eb7de1a1_c30e_4f0d_94c6_fe70414d7e61'): rdflib.term.URIRef('http://emmo.info/emmo#Representation'),\n",
       "  rdflib.term.URIRef('http://emmo.info/emmo#EMMO_d7bf784a_db94_4dd9_861c_54f262846fbf'): rdflib.term.URIRef('http://emmo.info/emmo#Sphere'),\n",
       "  rdflib.term.URIRef('http://emmo.info/emmo#EMMO_9268958f_7f54_48ab_a693_febe2645892b'): rdflib.term.URIRef('http://emmo.info/emmo#TwoManifold'),\n",
       "  rdflib.term.URIRef('http://emmo.info/emmo#EMMO_5f278af9_8593_4e27_a717_ccc9e07a0ddf'): rdflib.term.URIRef('http://emmo.info/emmo#EuclideanSpace'),\n",
       "  rdflib.term.URIRef('http://emmo.info/emmo#EMMO_39362460_2a97_4367_8f93_0418c2ac9a08'): rdflib.term.URIRef('http://emmo.info/emmo#Point'),\n",
       "  rdflib.term.URIRef('http://emmo.info/emmo#EMMO_0ef4ff4a_5458_4f2a_b51f_4689d472a3f2'): rdflib.term.URIRef('http://emmo.info/emmo#Curve'),\n",
       "  rdflib.term.URIRef('http://emmo.info/emmo#EMMO_dd14d055_2db0_4b81_bc97_ef6c2f72b8a0'): rdflib.term.URIRef('http://emmo.info/emmo#Gustatory'),\n",
       "  rdflib.term.URIRef('http://emmo.info/emmo#EMMO_e1021593_06da_4237_8a02_29d8f6fef76d'): rdflib.term.URIRef('http://emmo.info/emmo#Olfactory')},\n",
       " 'o_map': {rdflib.term.URIRef('http://emmo.info/emmo#EMMO_b5957cef_a287_442d_a3ce_fd39f20ba1cd'): rdflib.term.URIRef('http://emmo.info/emmo#Geometrical'),\n",
       "  rdflib.term.URIRef('http://emmo.info/emmo#EMMO_c74da218_9147_4f03_92d1_8894abca55f3'): rdflib.term.URIRef('http://emmo.info/emmo#Graphical'),\n",
       "  rdflib.term.URIRef('http://emmo.info/emmo#EMMO_e1021593_06da_4237_8a02_29d8f6fef76d'): rdflib.term.URIRef('http://emmo.info/emmo#Olfactory'),\n",
       "  rdflib.term.URIRef('http://emmo.info/emmo#EMMO_9268958f_7f54_48ab_a693_febe2645892b'): rdflib.term.URIRef('http://emmo.info/emmo#TwoManifold'),\n",
       "  rdflib.term.URIRef('http://emmo.info/emmo#EMMO_dd14d055_2db0_4b81_bc97_ef6c2f72b8a0'): rdflib.term.URIRef('http://emmo.info/emmo#Gustatory')},\n",
       " 'p_map': {}}"
      ]
     },
     "execution_count": 11,
     "metadata": {},
     "output_type": "execute_result"
    }
   ],
   "source": [
    "sop_map"
   ]
  },
  {
   "cell_type": "code",
   "execution_count": 12,
   "metadata": {},
   "outputs": [
    {
     "name": "stdout",
     "output_type": "stream",
     "text": [
      "23 5 0\n"
     ]
    }
   ],
   "source": [
    "print(len(sop_map[\"s_map\"]), len(sop_map['o_map']), len(sop_map['p_map']))"
   ]
  },
  {
   "cell_type": "code",
   "execution_count": null,
   "metadata": {},
   "outputs": [],
   "source": []
  },
  {
   "cell_type": "code",
   "execution_count": null,
   "metadata": {},
   "outputs": [],
   "source": []
  }
 ],
 "metadata": {
  "kernelspec": {
   "display_name": ".env",
   "language": "python",
   "name": ".env"
  },
  "language_info": {
   "codemirror_mode": {
    "name": "ipython",
    "version": 3
   },
   "file_extension": ".py",
   "mimetype": "text/x-python",
   "name": "python",
   "nbconvert_exporter": "python",
   "pygments_lexer": "ipython3",
   "version": "3.11.6"
  }
 },
 "nbformat": 4,
 "nbformat_minor": 4
}
