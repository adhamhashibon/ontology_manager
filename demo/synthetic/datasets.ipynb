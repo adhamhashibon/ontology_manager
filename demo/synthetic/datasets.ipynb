{
 "cells": [
  {
   "cell_type": "code",
   "execution_count": 72,
   "metadata": {},
   "outputs": [],
   "source": [
    "import sys \n",
    "sys.path.append(\"../../ontology_manager\")\n",
    "import rdflib\n",
    "from rdflib import URIRef, Literal\n",
    "from rdflib.namespace import RDF, RDFS\n",
    "import random"
   ]
  },
  {
   "cell_type": "markdown",
   "metadata": {},
   "source": [
    "Define namespaces"
   ]
  },
  {
   "cell_type": "code",
   "execution_count": 73,
   "metadata": {},
   "outputs": [],
   "source": [
    "domeES = rdflib.Namespace(\"http://dome40.eu/semantics/dome4.0_core#\")\n",
    "mio = rdflib.Namespace(\"http://www.ddmd.io/mio/\")"
   ]
  },
  {
   "cell_type": "markdown",
   "metadata": {},
   "source": [
    "Create a Graph"
   ]
  },
  {
   "cell_type": "code",
   "execution_count": 74,
   "metadata": {},
   "outputs": [],
   "source": [
    "g = rdflib.Graph()"
   ]
  },
  {
   "cell_type": "markdown",
   "metadata": {},
   "source": [
    "Add ontology prefixes to the graph"
   ]
  },
  {
   "cell_type": "code",
   "execution_count": 75,
   "metadata": {},
   "outputs": [],
   "source": [
    "g.bind('domeES', domeES)\n",
    "g.bind('mio', mio)\n",
    "g.bind('rdf', RDF)\n",
    "g.bind('rdfs', RDFS)"
   ]
  },
  {
   "cell_type": "markdown",
   "metadata": {},
   "source": [
    "Define the number of data sets to generate"
   ]
  },
  {
   "cell_type": "code",
   "execution_count": 76,
   "metadata": {},
   "outputs": [],
   "source": [
    "num_data_sets = 10"
   ]
  },
  {
   "cell_type": "markdown",
   "metadata": {},
   "source": [
    "Generate data sets and associated data"
   ]
  },
  {
   "cell_type": "code",
   "execution_count": 77,
   "metadata": {},
   "outputs": [],
   "source": [
    "for i in range(1, num_data_sets + 1):\n",
    "    \n",
    "    data_set_uri = URIRef(f\"http://example.com/dataset/{i}\")\n",
    "    data_uri = URIRef(f\"http://example.com/data/{i}\")\n",
    "\n",
    "    # Add data set type\n",
    "    g.add((data_set_uri, RDF.type, domeES.data_set))\n",
    "\n",
    "    # Add random data set properties\n",
    "    g.add((data_set_uri, domeES.type, Literal(\"Type\" + str(i))))\n",
    "    g.add((data_set_uri, domeES.platform_type, Literal(\"PlatformType\" + str(i))))\n",
    "    g.add((data_set_uri, domeES.label, Literal(\"Label\" + str(i))))\n",
    "    g.add((data_set_uri, domeES.comment, Literal(\"Comment\" + str(i))))\n",
    "\n",
    "    # Add hasPart relationship between DataSet and Data with specific value\n",
    "    g.add((data_set_uri, domeES.hasPart, data_uri))\n",
    "    g.add((data_uri, RDF.type, domeES.data))\n",
    "\n",
    "    # Add random values for each property\n",
    "    g.add((data_uri, domeES.hasValue, Literal(random.uniform(0.0, 10.0))))  # Adjust the range as needed\n",
    "    g.add((data_set_uri, mio.hasPart, domeES.web_platform))\n",
    "    g.add((data_set_uri, mio.hasPart, domeES.issued_date))\n",
    "    g.add((data_set_uri, mio.hasPart, domeES.data_creator))\n",
    "    g.add((data_set_uri, mio.hasPart, domeES.description))\n",
    "    g.add((data_set_uri, mio.hasPart, domeES.license))\n",
    "    g.add((data_set_uri, mio.hasPart, domeES.data_publisher))\n",
    "    g.add((data_set_uri, mio.hasPart, domeES.title))\n",
    "    g.add((data_set_uri, mio.hasPart, domeES.semantic_keyword))\n",
    "    g.add((data_set_uri, mio.hasPart, domeES.syntactic_keyword))"
   ]
  },
  {
   "cell_type": "markdown",
   "metadata": {},
   "source": [
    "Serialize the graph to a TTL file"
   ]
  },
  {
   "cell_type": "code",
   "execution_count": 78,
   "metadata": {},
   "outputs": [
    {
     "data": {
      "text/plain": [
       "<Graph identifier=Nfe0d547e9d4142f89b3b17c29ac7e0db (<class 'rdflib.graph.Graph'>)>"
      ]
     },
     "execution_count": 78,
     "metadata": {},
     "output_type": "execute_result"
    }
   ],
   "source": [
    "g.serialize(destination='output.ttl', format='turtle')"
   ]
  },
  {
   "cell_type": "markdown",
   "metadata": {},
   "source": [
    "<br>\n",
    "from vv.data import add_ontology<br>\n",
    "# Example usage:<br>\n",
    "cuds_file_path = \"output.ttl\"<br>\n",
    "ontology_file_path = \"Ontology-matters/dome4.0_core_tbox.ttl\"<br>\n",
    "output_file_path = \"output_2.ttl\"<br>\n",
    "result = add_ontology(cuds_file_path, ontology_file_path, output_file_path)"
   ]
  },
  {
   "cell_type": "code",
   "execution_count": 79,
   "metadata": {},
   "outputs": [],
   "source": [
    "# from data import upload_to_dataset, create_fuseki_dataset"
   ]
  },
  {
   "cell_type": "code",
   "execution_count": 80,
   "metadata": {},
   "outputs": [],
   "source": [
    "# fuseki = \"http://localhost:3030\"\n",
    "# dataset_name = \"dome40\"  # Replace with the name of your existing dataset\n",
    "# ttl_file_path = \"output.ttl\"\n",
    "# create_database = create_fuseki_dataset(fuseki, dataset_name)\n",
    "# add_data = upload_to_dataset(fuseki, dataset_name, ttl_file_path)"
   ]
  },
  {
   "cell_type": "code",
   "execution_count": 81,
   "metadata": {},
   "outputs": [
    {
     "ename": "ModuleNotFoundError",
     "evalue": "No module named 'pydotplus'",
     "output_type": "error",
     "traceback": [
      "\u001B[0;31m---------------------------------------------------------------------------\u001B[0m",
      "\u001B[0;31mModuleNotFoundError\u001B[0m                       Traceback (most recent call last)",
      "Cell \u001B[0;32mIn[81], line 1\u001B[0m\n\u001B[0;32m----> 1\u001B[0m \u001B[38;5;28;01mfrom\u001B[39;00m \u001B[38;5;21;01montodot\u001B[39;00m\u001B[38;5;21;01m.\u001B[39;00m\u001B[38;5;21;01montodot\u001B[39;00m \u001B[38;5;28;01mimport\u001B[39;00m OntoVis\n\u001B[1;32m      2\u001B[0m \u001B[38;5;28;01mfrom\u001B[39;00m \u001B[38;5;21;01montodot\u001B[39;00m\u001B[38;5;21;01m.\u001B[39;00m\u001B[38;5;21;01montodot\u001B[39;00m \u001B[38;5;28;01mimport\u001B[39;00m vis\n\u001B[1;32m      3\u001B[0m \u001B[38;5;28;01mfrom\u001B[39;00m \u001B[38;5;21;01montology_manager\u001B[39;00m\u001B[38;5;21;01m.\u001B[39;00m\u001B[38;5;21;01montology_utils\u001B[39;00m \u001B[38;5;28;01mimport\u001B[39;00m OntologyManager\n",
      "File \u001B[0;32m~/Documents/GitHub/materials_discovery/ontology_manager/demo/synthetic/../../../ontology_manager/ontodot/ontodot.py:3\u001B[0m\n\u001B[1;32m      1\u001B[0m \u001B[38;5;28;01mimport\u001B[39;00m \u001B[38;5;21;01mos\u001B[39;00m\n\u001B[1;32m      2\u001B[0m \u001B[38;5;28;01mimport\u001B[39;00m \u001B[38;5;21;01mio\u001B[39;00m\n\u001B[0;32m----> 3\u001B[0m \u001B[38;5;28;01mimport\u001B[39;00m \u001B[38;5;21;01mpydotplus\u001B[39;00m\n\u001B[1;32m      4\u001B[0m \u001B[38;5;28;01mfrom\u001B[39;00m \u001B[38;5;21;01mIPython\u001B[39;00m\u001B[38;5;21;01m.\u001B[39;00m\u001B[38;5;21;01mdisplay\u001B[39;00m \u001B[38;5;28;01mimport\u001B[39;00m display, Image\n\u001B[1;32m      5\u001B[0m \u001B[38;5;28;01mfrom\u001B[39;00m \u001B[38;5;21;01mrdflib\u001B[39;00m\u001B[38;5;21;01m.\u001B[39;00m\u001B[38;5;21;01mtools\u001B[39;00m\u001B[38;5;21;01m.\u001B[39;00m\u001B[38;5;21;01mrdf2dot\u001B[39;00m \u001B[38;5;28;01mimport\u001B[39;00m rdf2dot\n",
      "\u001B[0;31mModuleNotFoundError\u001B[0m: No module named 'pydotplus'"
     ]
    }
   ],
   "source": [
    "from ontodot.ontodot import OntoVis\n",
    "from ontodot.ontodot import vis\n",
    "from ontology_manager.ontology_utils import OntologyManager"
   ]
  },
  {
   "cell_type": "code",
   "execution_count": 82,
   "metadata": {},
   "outputs": [
    {
     "ename": "NameError",
     "evalue": "name 'OntologyManager' is not defined",
     "output_type": "error",
     "traceback": [
      "\u001B[0;31m---------------------------------------------------------------------------\u001B[0m",
      "\u001B[0;31mNameError\u001B[0m                                 Traceback (most recent call last)",
      "Cell \u001B[0;32mIn[82], line 4\u001B[0m\n\u001B[1;32m      2\u001B[0m catalog_file \u001B[38;5;241m=\u001B[39m \u001B[38;5;124m'\u001B[39m\u001B[38;5;124mcatalog-v001.xml\u001B[39m\u001B[38;5;124m'\u001B[39m\n\u001B[1;32m      3\u001B[0m \u001B[38;5;66;03m#%%\u001B[39;00m\n\u001B[0;32m----> 4\u001B[0m mio_manager \u001B[38;5;241m=\u001B[39m \u001B[43mOntologyManager\u001B[49m(base_path, catalog_file)\n\u001B[1;32m      5\u001B[0m mio_manager\u001B[38;5;241m.\u001B[39mparse_catalog()\n\u001B[1;32m      6\u001B[0m mio_manager\u001B[38;5;241m.\u001B[39mload_ontology()\n",
      "\u001B[0;31mNameError\u001B[0m: name 'OntologyManager' is not defined"
     ]
    }
   ],
   "source": [
    "base_path = './'\n",
    "catalog_file = 'catalog-v001.xml'\n",
    "#%%\n",
    "mio_manager = OntologyManager(base_path, catalog_file)\n",
    "mio_manager.parse_catalog()\n",
    "mio_manager.load_ontology()\n",
    "#%%\n",
    "# there is one graph, we also know the name space,\n",
    "g=mio_manager.ontology_graphs[domeES]\n",
    "#%%\n",
    "# plot, and check the OntoVis.Output folder for all images and dot files.\n",
    "vis(g, max_string_length=5)"
   ]
  },
  {
   "cell_type": "code",
   "execution_count": 83,
   "metadata": {},
   "outputs": [],
   "source": [
    "from rdflib import Graph, URIRef"
   ]
  },
  {
   "cell_type": "markdown",
   "metadata": {},
   "source": [
    "Load the RDF graph from the TTL file"
   ]
  },
  {
   "cell_type": "code",
   "execution_count": 70,
   "metadata": {},
   "outputs": [
    {
     "data": {
      "text/plain": [
       "<Graph identifier=N75b63541138f41729d0acf6bc5b3de5a (<class 'rdflib.graph.Graph'>)>"
      ]
     },
     "execution_count": 70,
     "metadata": {},
     "output_type": "execute_result"
    }
   ],
   "source": [
    "g = Graph()\n",
    "g.parse('output.ttl', format='turtle')"
   ]
  },
  {
   "cell_type": "markdown",
   "metadata": {},
   "source": [
    "Define the SPARQL query"
   ]
  },
  {
   "cell_type": "code",
   "execution_count": 71,
   "metadata": {},
   "outputs": [],
   "source": [
    "query_str = \"\"\"\n",
    "\n",
    "    PREFIX domeES: <http://dome40.eu/semantics/dome4.0_core#><br>\n",
    "    SELECT ?dataset ?value<br>\n",
    "    WHERE {<br>\n",
    "        ?dataset domeES:hasPart ?data .<br>\n",
    "        ?data domeES:hasValue ?value .<br>\n",
    "    }\n",
    "\"\"\""
   ]
  },
  {
   "cell_type": "markdown",
   "metadata": {},
   "source": [
    "Execute the query"
   ]
  },
  {
   "cell_type": "code",
   "execution_count": null,
   "metadata": {},
   "outputs": [],
   "source": [
    "results = g.query(query_str)"
   ]
  },
  {
   "cell_type": "markdown",
   "metadata": {},
   "source": [
    "Print the results"
   ]
  },
  {
   "cell_type": "code",
   "execution_count": null,
   "metadata": {},
   "outputs": [],
   "source": [
    "for row in results:\n",
    "    dataset, value = row\n",
    "    print(f\"Dataset: {dataset}, Value: {value}\")"
   ]
  }
 ],
 "metadata": {
  "kernelspec": {
   "display_name": "Python 3 (ipykernel)",
   "language": "python",
   "name": "python3"
  },
  "language_info": {
   "codemirror_mode": {
    "name": "ipython",
    "version": 3
   },
   "file_extension": ".py",
   "mimetype": "text/x-python",
   "name": "python",
   "nbconvert_exporter": "python",
   "pygments_lexer": "ipython3",
   "version": "3.10.11"
  }
 },
 "nbformat": 4,
 "nbformat_minor": 2
}
