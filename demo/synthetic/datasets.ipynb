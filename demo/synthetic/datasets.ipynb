{
 "cells": [
  {
   "cell_type": "markdown",
   "metadata": {
    "editable": true,
    "slideshow": {
     "slide_type": "slide"
    },
    "tags": []
   },
   "source": [
    "# DOME 4.0 M36 Demo \n",
    "## Enhanced Semantic Backend Services for the Eco System supporting \n",
    "- ### Full Provenance\n",
    "- ### Clearnig House\n",
    "- ### Enhanced Conntector (next phase)\n",
    "\n",
    "# Creating Synthetic Data for the Demo. "
   ]
  },
  {
   "cell_type": "code",
   "execution_count": 15,
   "metadata": {
    "editable": true,
    "slideshow": {
     "slide_type": "subslide"
    },
    "tags": []
   },
   "outputs": [],
   "source": [
    "import sys \n",
    "#sys.path.append(\"../../ontology_manager\")\n",
    "import rdflib\n",
    "from rdflib import URIRef, Literal\n",
    "from rdflib.namespace import RDF, RDFS\n",
    "import random\n",
    "from types import SimpleNamespace\n"
   ]
  },
  {
   "cell_type": "code",
   "execution_count": 10,
   "metadata": {
    "editable": true,
    "slideshow": {
     "slide_type": ""
    },
    "tags": []
   },
   "outputs": [],
   "source": [
    "from ontodot.ontodot import OntoVis\n",
    "from ontodot.ontodot import vis\n",
    "from ontology_manager.ontology_utils import OntologyManager"
   ]
  },
  {
   "cell_type": "code",
   "execution_count": 2,
   "metadata": {
    "editable": true,
    "slideshow": {
     "slide_type": "fragment"
    },
    "tags": []
   },
   "outputs": [],
   "source": [
    "domeES = rdflib.Namespace(\"http://dome40.eu/semantics/dome4.0_core#\")\n",
    "mio = rdflib.Namespace(\"http://www.ddmd.io/mio/\")"
   ]
  },
  {
   "cell_type": "markdown",
   "metadata": {
    "editable": true,
    "slideshow": {
     "slide_type": "slide"
    },
    "tags": []
   },
   "source": [
    "Define namespaces"
   ]
  },
  {
   "cell_type": "markdown",
   "metadata": {
    "editable": true,
    "slideshow": {
     "slide_type": "fragment"
    },
    "tags": []
   },
   "source": [
    "Create a Graph"
   ]
  },
  {
   "cell_type": "code",
   "execution_count": 3,
   "metadata": {
    "editable": true,
    "slideshow": {
     "slide_type": ""
    },
    "tags": []
   },
   "outputs": [],
   "source": [
    "g = rdflib.Graph()"
   ]
  },
  {
   "cell_type": "markdown",
   "metadata": {
    "editable": true,
    "slideshow": {
     "slide_type": "slide"
    },
    "tags": []
   },
   "source": [
    "# Load the DOME 4.0 CORE Eco System Ontology"
   ]
  },
  {
   "cell_type": "code",
   "execution_count": 99,
   "metadata": {
    "editable": true,
    "slideshow": {
     "slide_type": "fragment"
    },
    "tags": []
   },
   "outputs": [],
   "source": [
    "dome.g=Graph(bind_namespaces=\"rdflib\")\n",
    "dome.ns=Namespace('https://dome40.eu/semantics/dome4.0_core#')\n",
    "dome.path = \"/Users/adham/dev/ontology/dome/Ontology-matters/\"\n",
    "dome.file='dome4.0_core_tbox.ttl'"
   ]
  },
  {
   "cell_type": "code",
   "execution_count": null,
   "metadata": {
    "editable": true,
    "slideshow": {
     "slide_type": ""
    },
    "tags": []
   },
   "outputs": [],
   "source": []
  },
  {
   "cell_type": "markdown",
   "metadata": {
    "editable": true,
    "slideshow": {
     "slide_type": ""
    },
    "tags": []
   },
   "source": [
    "Add ontology prefixes to the graph"
   ]
  },
  {
   "cell_type": "code",
   "execution_count": 4,
   "metadata": {
    "editable": true,
    "slideshow": {
     "slide_type": ""
    },
    "tags": []
   },
   "outputs": [],
   "source": [
    "g.bind('domeES', domeES)\n",
    "g.bind('mio', mio)\n",
    "g.bind('rdf', RDF)\n",
    "g.bind('rdfs', RDFS)"
   ]
  },
  {
   "cell_type": "markdown",
   "metadata": {
    "editable": true,
    "slideshow": {
     "slide_type": ""
    },
    "tags": []
   },
   "source": [
    "Define the number of data sets to generate"
   ]
  },
  {
   "cell_type": "code",
   "execution_count": 16,
   "metadata": {
    "editable": true,
    "slideshow": {
     "slide_type": ""
    },
    "tags": []
   },
   "outputs": [],
   "source": [
    "num_data_sets = 1"
   ]
  },
  {
   "cell_type": "markdown",
   "metadata": {
    "editable": true,
    "slideshow": {
     "slide_type": ""
    },
    "tags": []
   },
   "source": [
    "Generate data sets and associated data"
   ]
  },
  {
   "cell_type": "code",
   "execution_count": 17,
   "metadata": {
    "editable": true,
    "slideshow": {
     "slide_type": ""
    },
    "tags": []
   },
   "outputs": [],
   "source": [
    "ds= SimpleNamespace()\n",
    "\n",
    "for i in range(1, num_data_sets + 1):\n",
    "    \n",
    "    ds.ds = URIRef(f\"{domeES}DS_{i}\")\n",
    "    ds.uri = URIRef(f\"http://materialsproject.org/data/calc_{i}\")\n",
    "\n",
    "    # Add data set type\n",
    "    g.add((data_set_uri, RDF.type, domeES.data_set))\n",
    "\n",
    "    # Add random data set properties\n",
    "    g.add((data_set_uri, domeES.type, Literal(\"Type\" + str(i))))\n",
    "    g.add((data_set_uri, domeES.platform_type, Literal(\"PlatformType\" + str(i))))\n",
    "    g.add((data_set_uri, domeES.label, Literal(\"Label\" + str(i))))\n",
    "    g.add((data_set_uri, domeES.comment, Literal(\"Comment\" + str(i))))\n",
    "\n",
    "    # Add hasPart relationship between DataSet and Data with specific value\n",
    "    g.add((data_set_uri, domeES.hasPart, data_uri))\n",
    "    g.add((data_uri, RDF.type, domeES.data))\n",
    "\n",
    "    # Add random values for each property\n",
    "    g.add((data_uri, domeES.hasValue, Literal(random.uniform(0.0, 10.0))))  # Adjust the range as needed\n",
    "    g.add((data_set_uri, mio.hasPart, domeES.web_platform))\n",
    "    g.add((data_set_uri, mio.hasPart, domeES.issued_date))\n",
    "    g.add((data_set_uri, mio.hasPart, domeES.data_creator))\n",
    "    g.add((data_set_uri, mio.hasPart, domeES.description))\n",
    "    g.add((data_set_uri, mio.hasPart, domeES.license))\n",
    "    g.add((data_set_uri, mio.hasPart, domeES.data_publisher))\n",
    "    g.add((data_set_uri, mio.hasPart, domeES.title))\n",
    "    g.add((data_set_uri, mio.hasPart, domeES.semantic_keyword))\n",
    "    g.add((data_set_uri, mio.hasPart, domeES.syntactic_keyword))"
   ]
  },
  {
   "cell_type": "markdown",
   "metadata": {
    "editable": true,
    "slideshow": {
     "slide_type": ""
    },
    "tags": []
   },
   "source": [
    "Serialize the graph to a TTL file"
   ]
  },
  {
   "cell_type": "code",
   "execution_count": 7,
   "metadata": {
    "editable": true,
    "slideshow": {
     "slide_type": ""
    },
    "tags": []
   },
   "outputs": [
    {
     "data": {
      "text/plain": [
       "<Graph identifier=Nccbedc42901442fcba05ab93cd68350a (<class 'rdflib.graph.Graph'>)>"
      ]
     },
     "execution_count": 7,
     "metadata": {},
     "output_type": "execute_result"
    }
   ],
   "source": [
    "g.serialize(destination='output.ttl', format='turtle')"
   ]
  },
  {
   "cell_type": "markdown",
   "metadata": {
    "editable": true,
    "slideshow": {
     "slide_type": ""
    },
    "tags": []
   },
   "source": [
    "<br>\n",
    "from vv.data import add_ontology<br>\n",
    "# Example usage:<br>\n",
    "cuds_file_path = \"output.ttl\"<br>\n",
    "ontology_file_path = \"Ontology-matters/dome4.0_core_tbox.ttl\"<br>\n",
    "output_file_path = \"output_2.ttl\"<br>\n",
    "result = add_ontology(cuds_file_path, ontology_file_path, output_file_path)"
   ]
  },
  {
   "cell_type": "code",
   "execution_count": 8,
   "metadata": {
    "editable": true,
    "slideshow": {
     "slide_type": ""
    },
    "tags": []
   },
   "outputs": [],
   "source": [
    "# from data import upload_to_dataset, create_fuseki_dataset"
   ]
  },
  {
   "cell_type": "code",
   "execution_count": 9,
   "metadata": {
    "editable": true,
    "slideshow": {
     "slide_type": ""
    },
    "tags": []
   },
   "outputs": [],
   "source": [
    "# fuseki = \"http://localhost:3030\"\n",
    "# dataset_name = \"dome40\"  # Replace with the name of your existing dataset\n",
    "# ttl_file_path = \"output.ttl\"\n",
    "# create_database = create_fuseki_dataset(fuseki, dataset_name)\n",
    "# add_data = upload_to_dataset(fuseki, dataset_name, ttl_file_path)"
   ]
  },
  {
   "cell_type": "code",
   "execution_count": 11,
   "metadata": {
    "editable": true,
    "slideshow": {
     "slide_type": ""
    },
    "tags": []
   },
   "outputs": [
    {
     "name": "stdout",
     "output_type": "stream",
     "text": [
      "ops... File not found: ./catalog-v001.xml\n"
     ]
    },
    {
     "ename": "KeyError",
     "evalue": "Namespace('http://dome40.eu/semantics/dome4.0_core#')",
     "output_type": "error",
     "traceback": [
      "\u001b[0;31m---------------------------------------------------------------------------\u001b[0m",
      "\u001b[0;31mKeyError\u001b[0m                                  Traceback (most recent call last)",
      "Cell \u001b[0;32mIn[11], line 9\u001b[0m\n\u001b[1;32m      6\u001b[0m mio_manager\u001b[38;5;241m.\u001b[39mload_ontology()\n\u001b[1;32m      7\u001b[0m \u001b[38;5;66;03m#%%\u001b[39;00m\n\u001b[1;32m      8\u001b[0m \u001b[38;5;66;03m# there is one graph, we also know the name space,\u001b[39;00m\n\u001b[0;32m----> 9\u001b[0m g\u001b[38;5;241m=\u001b[39m\u001b[43mmio_manager\u001b[49m\u001b[38;5;241;43m.\u001b[39;49m\u001b[43montology_graphs\u001b[49m\u001b[43m[\u001b[49m\u001b[43mdomeES\u001b[49m\u001b[43m]\u001b[49m\n\u001b[1;32m     10\u001b[0m \u001b[38;5;66;03m#%%\u001b[39;00m\n\u001b[1;32m     11\u001b[0m \u001b[38;5;66;03m# plot, and check the OntoVis.Output folder for all images and dot files.\u001b[39;00m\n\u001b[1;32m     12\u001b[0m vis(g, max_string_length\u001b[38;5;241m=\u001b[39m\u001b[38;5;241m5\u001b[39m)\n",
      "\u001b[0;31mKeyError\u001b[0m: Namespace('http://dome40.eu/semantics/dome4.0_core#')"
     ]
    }
   ],
   "source": [
    "base_path = './'\n",
    "catalog_file = 'catalog-v001.xml'\n",
    "#%%\n",
    "mio_manager = OntologyManager(base_path, catalog_file)\n",
    "mio_manager.parse_catalog()\n",
    "mio_manager.load_ontology()\n",
    "#%%\n",
    "# there is one graph, we also know the name space,\n",
    "g=mio_manager.ontology_graphs[domeES]\n",
    "#%%\n",
    "# plot, and check the OntoVis.Output folder for all images and dot files.\n",
    "vis(g, max_string_length=5)"
   ]
  },
  {
   "cell_type": "code",
   "execution_count": 12,
   "metadata": {
    "editable": true,
    "slideshow": {
     "slide_type": ""
    },
    "tags": []
   },
   "outputs": [],
   "source": [
    "from rdflib import Graph, URIRef"
   ]
  },
  {
   "cell_type": "markdown",
   "metadata": {
    "editable": true,
    "slideshow": {
     "slide_type": ""
    },
    "tags": []
   },
   "source": [
    "Load the RDF graph from the TTL file"
   ]
  },
  {
   "cell_type": "code",
   "execution_count": 70,
   "metadata": {
    "editable": true,
    "slideshow": {
     "slide_type": ""
    },
    "tags": []
   },
   "outputs": [
    {
     "data": {
      "text/plain": [
       "<Graph identifier=N75b63541138f41729d0acf6bc5b3de5a (<class 'rdflib.graph.Graph'>)>"
      ]
     },
     "execution_count": 70,
     "metadata": {},
     "output_type": "execute_result"
    }
   ],
   "source": [
    "g = Graph()\n",
    "g.parse('output.ttl', format='turtle')"
   ]
  },
  {
   "cell_type": "markdown",
   "metadata": {},
   "source": [
    "Define the SPARQL query"
   ]
  },
  {
   "cell_type": "code",
   "execution_count": 71,
   "metadata": {},
   "outputs": [],
   "source": [
    "query_str = \"\"\"\n",
    "\n",
    "    PREFIX domeES: <http://dome40.eu/semantics/dome4.0_core#><br>\n",
    "    SELECT ?dataset ?value<br>\n",
    "    WHERE {<br>\n",
    "        ?dataset domeES:hasPart ?data .<br>\n",
    "        ?data domeES:hasValue ?value .<br>\n",
    "    }\n",
    "\"\"\""
   ]
  },
  {
   "cell_type": "markdown",
   "metadata": {},
   "source": [
    "Execute the query"
   ]
  },
  {
   "cell_type": "code",
   "execution_count": null,
   "metadata": {},
   "outputs": [],
   "source": [
    "results = g.query(query_str)"
   ]
  },
  {
   "cell_type": "markdown",
   "metadata": {},
   "source": [
    "Print the results"
   ]
  },
  {
   "cell_type": "code",
   "execution_count": null,
   "metadata": {},
   "outputs": [],
   "source": [
    "for row in results:\n",
    "    dataset, value = row\n",
    "    print(f\"Dataset: {dataset}, Value: {value}\")"
   ]
  }
 ],
 "metadata": {
  "kernelspec": {
   "display_name": "Python 3 (ipykernel)",
   "language": "python",
   "name": "python3"
  },
  "language_info": {
   "codemirror_mode": {
    "name": "ipython",
    "version": 3
   },
   "file_extension": ".py",
   "mimetype": "text/x-python",
   "name": "python",
   "nbconvert_exporter": "python",
   "pygments_lexer": "ipython3",
   "version": "3.11.6"
  }
 },
 "nbformat": 4,
 "nbformat_minor": 4
}
