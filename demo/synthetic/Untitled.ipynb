{
 "cells": [
  {
   "cell_type": "code",
   "execution_count": null,
   "id": "a30cffe4-af45-4b25-a90e-33a6338464ae",
   "metadata": {
    "editable": true,
    "slideshow": {
     "slide_type": ""
    },
    "tags": []
   },
   "outputs": [],
   "source": [
    "import random\n",
    "from datetime import datetime, timedelta\n",
    "\n",
    "def random_date_time():\n",
    "    \"\"\"\n",
    "    Generate a random date and time between one year ago and one year in the future from today.\n",
    "    Returns the date and time as a datetime object.\n",
    "    \"\"\"\n",
    "    today = datetime.now()\n",
    "    start = today - timedelta(days=365)\n",
    "    end = today + timedelta(days=365)\n",
    "\n",
    "    # Generate a random number of seconds between start and end\n",
    "    random_seconds = random.randint(0, int((end - start).total_seconds()))\n",
    "\n",
    "    # Add the random number of seconds to the start time\n",
    "    random_date = start + timedelta(seconds=random_seconds)\n",
    "\n",
    "    return random_date"
   ]
  },
  {
   "cell_type": "code",
   "execution_count": 108,
   "id": "2bc8b034-9cb2-43fb-b281-d08dd678c7ad",
   "metadata": {
    "editable": true,
    "slideshow": {
     "slide_type": ""
    },
    "tags": []
   },
   "outputs": [],
   "source": [
    "for s,p,o in dome.g:\n",
    "    if not isinstance(s, URIRef):\n",
    "        print (p.n3(dome.g.namespace_manager), o.n3(dome.g.namespace_manager))\n",
    "        #dome.g.remove((s, p, o))"
   ]
  }
 ],
 "metadata": {
  "kernelspec": {
   "display_name": "Python (.env)",
   "language": "python",
   "name": ".env"
  },
  "language_info": {
   "codemirror_mode": {
    "name": "ipython",
    "version": 3
   },
   "file_extension": ".py",
   "mimetype": "text/x-python",
   "name": "python",
   "nbconvert_exporter": "python",
   "pygments_lexer": "ipython3",
   "version": "3.11.6"
  }
 },
 "nbformat": 4,
 "nbformat_minor": 5
}
